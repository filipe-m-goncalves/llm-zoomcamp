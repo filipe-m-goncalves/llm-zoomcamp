{
 "cells": [
  {
   "cell_type": "code",
   "execution_count": 1,
   "id": "5cda18f3-d5e6-4082-98bf-2839d08ccf6d",
   "metadata": {},
   "outputs": [],
   "source": [
    "import requests "
   ]
  },
  {
   "cell_type": "code",
   "execution_count": 2,
   "id": "44e3c16a-ce95-4b9e-a16d-d265e64fa6ea",
   "metadata": {},
   "outputs": [],
   "source": [
    "docs_url = 'https://github.com/DataTalksClub/llm-zoomcamp/blob/main/01-intro/documents.json?raw=1'\n",
    "docs_response = requests.get(docs_url)\n",
    "documents_raw = docs_response.json()\n",
    "\n",
    "documents = []\n",
    "\n",
    "for course in documents_raw:\n",
    "    course_name = course['course']\n",
    "\n",
    "    for doc in course['documents']:\n",
    "        doc['course'] = course_name\n",
    "        documents.append(doc)"
   ]
  },
  {
   "cell_type": "code",
   "execution_count": 5,
   "id": "10e20845-a3a4-4537-bcce-d97b8d2b40b9",
   "metadata": {},
   "outputs": [],
   "source": [
    "from elasticsearch import Elasticsearch"
   ]
  },
  {
   "cell_type": "code",
   "execution_count": 6,
   "id": "e224bdba-5b5c-48b6-8120-36f4eae95d8c",
   "metadata": {},
   "outputs": [],
   "source": [
    "es_client=Elasticsearch('http://localhost:9200')"
   ]
  },
  {
   "cell_type": "code",
   "execution_count": 7,
   "id": "6f5d88bd-0482-46db-8400-ce21ac52424c",
   "metadata": {},
   "outputs": [],
   "source": [
    "index_settings = {\n",
    "    \"settings\": {\n",
    "        \"number_of_shards\": 1,\n",
    "        \"number_of_replicas\": 0\n",
    "    },\n",
    "    \"mappings\": {\n",
    "        \"properties\": {\n",
    "            \"text\": {\"type\": \"text\"},\n",
    "            \"section\": {\"type\": \"text\"},\n",
    "            \"question\": {\"type\": \"text\"},\n",
    "            \"course\": {\"type\": \"keyword\"} \n",
    "        }\n",
    "    }\n",
    "}"
   ]
  },
  {
   "cell_type": "code",
   "execution_count": 10,
   "id": "62bcbb9d-8a10-404e-822f-51792b128177",
   "metadata": {},
   "outputs": [],
   "source": [
    "index_name=\"course-homework\""
   ]
  },
  {
   "cell_type": "code",
   "execution_count": 11,
   "id": "b3bbc42c-5d99-46df-8576-6bd8fdaaa6d6",
   "metadata": {},
   "outputs": [
    {
     "data": {
      "text/plain": [
       "ObjectApiResponse({'acknowledged': True, 'shards_acknowledged': True, 'index': 'course-homework'})"
      ]
     },
     "execution_count": 11,
     "metadata": {},
     "output_type": "execute_result"
    }
   ],
   "source": [
    "es_client.indices.create(index=index_name, body=index_settings, )"
   ]
  },
  {
   "cell_type": "code",
   "execution_count": 12,
   "id": "0d57c535-a2f1-4223-a654-56b1e272ae45",
   "metadata": {},
   "outputs": [],
   "source": [
    "from tqdm.auto import tqdm"
   ]
  },
  {
   "cell_type": "code",
   "execution_count": 13,
   "id": "5bc91923-c0d0-4ef6-8c51-574b6174599a",
   "metadata": {},
   "outputs": [
    {
     "data": {
      "application/vnd.jupyter.widget-view+json": {
       "model_id": "ca82650601bd48eda05ecc5ae0a5eaf8",
       "version_major": 2,
       "version_minor": 0
      },
      "text/plain": [
       "  0%|          | 0/948 [00:00<?, ?it/s]"
      ]
     },
     "metadata": {},
     "output_type": "display_data"
    }
   ],
   "source": [
    "for doc in tqdm(documents):\n",
    "    es_client.index(index=index_name, document=doc)"
   ]
  },
  {
   "cell_type": "code",
   "execution_count": 18,
   "id": "a17d718f-e388-4994-81ba-83fe61bfae72",
   "metadata": {},
   "outputs": [],
   "source": [
    "query3=\"How do execute a command on a Kubernetes pod?\"\n",
    "\n",
    "def elastic_search_score(query):\n",
    "    search_query = {\n",
    "        \"size\": 3,\n",
    "        \"query\": {\n",
    "            \"bool\": {\n",
    "                \"must\": {\n",
    "                    \"multi_match\": {\n",
    "                        \"query\": query,\n",
    "                        \"fields\": [\"question^4\", \"text\", \"section\"],\n",
    "                        \"type\": \"best_fields\"\n",
    "                    }\n",
    "                },\n",
    "                \"filter\": {\n",
    "                    \"term\": {\n",
    "                        \"course\": \"machine-learning-zoomcamp\"\n",
    "                    }\n",
    "                }\n",
    "            }\n",
    "        }\n",
    "    }\n",
    "\n",
    "    response = es_client.search(index=index_name, body=search_query)\n",
    "    result_docs = []\n",
    "\n",
    "    for hit in response['hits']['hits']:\n",
    "        result_docs.append(hit['_score'])\n",
    "\n",
    "    return result_docs"
   ]
  },
  {
   "cell_type": "code",
   "execution_count": 19,
   "id": "eff6459c-589b-4acf-870b-bc264ec4e1ee",
   "metadata": {},
   "outputs": [
    {
     "data": {
      "text/plain": [
       "[44.50556, 35.433445, 33.70974]"
      ]
     },
     "execution_count": 19,
     "metadata": {},
     "output_type": "execute_result"
    }
   ],
   "source": [
    "elastic_search_score(query3)"
   ]
  },
  {
   "cell_type": "code",
   "execution_count": 21,
   "id": "a488ab93-c8b4-45a2-9760-dbf70c00bd08",
   "metadata": {},
   "outputs": [],
   "source": [
    "def elastic_search_source(query):\n",
    "    search_query = {\n",
    "        \"size\": 3,\n",
    "        \"query\": {\n",
    "            \"bool\": {\n",
    "                \"must\": {\n",
    "                    \"multi_match\": {\n",
    "                        \"query\": query,\n",
    "                        \"fields\": [\"question^4\", \"text\", \"section\"],\n",
    "                        \"type\": \"best_fields\"\n",
    "                    }\n",
    "                },\n",
    "                \"filter\": {\n",
    "                    \"term\": {\n",
    "                        \"course\": \"machine-learning-zoomcamp\"\n",
    "                    }\n",
    "                }\n",
    "            }\n",
    "        }\n",
    "    }\n",
    "\n",
    "    response = es_client.search(index=index_name, body=search_query)\n",
    "    result_docs = []\n",
    "\n",
    "    for hit in response['hits']['hits']:\n",
    "        result_docs.append(hit['_source'])\n",
    "\n",
    "    return result_docs"
   ]
  },
  {
   "cell_type": "code",
   "execution_count": 28,
   "id": "41ad3c42-718d-4702-be87-1bfb12156270",
   "metadata": {},
   "outputs": [],
   "source": [
    "question4= \"How do copy a file to a Docker container?\"\n",
    "search_results = elastic_search_source(question4)"
   ]
  },
  {
   "cell_type": "code",
   "execution_count": 29,
   "id": "fbde3d73-e359-411c-b12f-1319c076ccd0",
   "metadata": {},
   "outputs": [
    {
     "data": {
      "text/plain": [
       "[{'text': 'Launch the container image in interactive mode and overriding the entrypoint, so that it starts a bash command.\\ndocker run -it --entrypoint bash <image>\\nIf the container is already running, execute a command in the specific container:\\ndocker ps (find the container-id)\\ndocker exec -it <container-id> bash\\n(Marcos MJD)',\n",
       "  'section': '5. Deploying Machine Learning Models',\n",
       "  'question': 'How do I debug a docker container?',\n",
       "  'course': 'machine-learning-zoomcamp'},\n",
       " {'text': \"You can copy files from your local machine into a Docker container using the docker cp command. Here's how to do it:\\nTo copy a file or directory from your local machine into a running Docker container, you can use the `docker cp command`. The basic syntax is as follows:\\ndocker cp /path/to/local/file_or_directory container_id:/path/in/container\\nHrithik Kumar Advani\",\n",
       "  'section': '5. Deploying Machine Learning Models',\n",
       "  'question': 'How do I copy files from my local machine to docker container?',\n",
       "  'course': 'machine-learning-zoomcamp'},\n",
       " {'text': 'You can copy files from your local machine into a Docker container using the docker cp command. Here\\'s how to do it:\\nIn the Dockerfile, you can provide the folder containing the files that you want to copy over. The basic syntax is as follows:\\nCOPY [\"src/predict.py\", \"models/xgb_model.bin\", \"./\"]\\t\\t\\t\\t\\t\\t\\t\\t\\t\\t\\tGopakumar Gopinathan',\n",
       "  'section': '5. Deploying Machine Learning Models',\n",
       "  'question': 'How do I copy files from a different folder into docker container’s working directory?',\n",
       "  'course': 'machine-learning-zoomcamp'}]"
      ]
     },
     "execution_count": 29,
     "metadata": {},
     "output_type": "execute_result"
    }
   ],
   "source": [
    "search_results"
   ]
  },
  {
   "cell_type": "code",
   "execution_count": 30,
   "id": "67fea457-e180-4ebd-9bcb-80922f178ef8",
   "metadata": {},
   "outputs": [],
   "source": [
    "context_template = \"\"\"\n",
    "Q: {question}\n",
    "A: {text}\n",
    "\"\"\".strip()"
   ]
  },
  {
   "cell_type": "code",
   "execution_count": 31,
   "id": "fc544b85-c134-4389-9279-518c9818c3a5",
   "metadata": {},
   "outputs": [],
   "source": [
    "def build_prompt_tpc(query, search_results):\n",
    "    prompt_template=\"\"\"\n",
    "        You're a course teaching assistant. Answer the QUESTION based on the CONTEXT from the FAQ database.\n",
    "        Use only the facts from the CONTEXT when answering the QUESTION.\n",
    "        \n",
    "        QUESTION: {question}\n",
    "        \n",
    "        CONTEXT:\n",
    "        {context}\n",
    "        \"\"\".strip()\n",
    "\n",
    "    context=\"\"\n",
    "\n",
    "    for doc in search_results:\n",
    "        context = context + context_template.format(question=doc['question'], text=doc['text']) + \"\\n\\n\"\n",
    "        \n",
    "    prompt = prompt_template.format(question=query, context=context).strip()\n",
    "\n",
    "    return prompt"
   ]
  },
  {
   "cell_type": "code",
   "execution_count": 33,
   "id": "2fb369c5-774f-4720-9455-5078cad669b4",
   "metadata": {},
   "outputs": [],
   "source": [
    "question5=\"How do copy a file to a Docker container?\"\n",
    "search_results5 = elastic_search_source(question5)\n",
    "prompt_tpc = build_prompt_tpc(question5, search_results5)"
   ]
  },
  {
   "cell_type": "code",
   "execution_count": 34,
   "id": "f5184132-2986-42e2-86ae-221b19d2b579",
   "metadata": {},
   "outputs": [
    {
     "data": {
      "text/plain": [
       "1478"
      ]
     },
     "execution_count": 34,
     "metadata": {},
     "output_type": "execute_result"
    }
   ],
   "source": [
    "len(prompt_tpc)"
   ]
  },
  {
   "cell_type": "code",
   "execution_count": 35,
   "id": "95467dad-dab6-4b48-9a23-40d9c6b74394",
   "metadata": {},
   "outputs": [],
   "source": [
    "import tiktoken"
   ]
  },
  {
   "cell_type": "code",
   "execution_count": 36,
   "id": "6928682c-fae3-4ec5-8634-bc192e9224d9",
   "metadata": {},
   "outputs": [],
   "source": [
    "encoding = tiktoken.encoding_for_model(\"gpt-4o-mini\")"
   ]
  },
  {
   "cell_type": "code",
   "execution_count": 37,
   "id": "916fcc4b-3922-499b-a280-3bb65a7cadac",
   "metadata": {},
   "outputs": [],
   "source": [
    "prompt_tpc_tokens = encoding.encode(prompt_tpc)"
   ]
  },
  {
   "cell_type": "code",
   "execution_count": 38,
   "id": "03614087-079b-4c2f-bd0e-b7c97169999e",
   "metadata": {},
   "outputs": [
    {
     "data": {
      "text/plain": [
       "324"
      ]
     },
     "execution_count": 38,
     "metadata": {},
     "output_type": "execute_result"
    }
   ],
   "source": [
    "len(prompt_tpc_tokens)"
   ]
  }
 ],
 "metadata": {
  "kernelspec": {
   "display_name": "Python 3 (ipykernel)",
   "language": "python",
   "name": "python3"
  },
  "language_info": {
   "codemirror_mode": {
    "name": "ipython",
    "version": 3
   },
   "file_extension": ".py",
   "mimetype": "text/x-python",
   "name": "python",
   "nbconvert_exporter": "python",
   "pygments_lexer": "ipython3",
   "version": "3.12.1"
  }
 },
 "nbformat": 4,
 "nbformat_minor": 5
}
